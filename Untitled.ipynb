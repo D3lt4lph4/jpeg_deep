{
 "cells": [
  {
   "cell_type": "code",
   "execution_count": 1,
   "metadata": {},
   "outputs": [],
   "source": [
    "import tensorflow as tf\n",
    "tf.enable_eager_execution()\n"
   ]
  },
  {
   "cell_type": "code",
   "execution_count": 2,
   "metadata": {},
   "outputs": [],
   "source": [
    "filenames = [\"/save/2017018/bdegue01/datasets/imagenet/tfrecord/validation-00000-of-00001\"]\n",
    "dataset = tf.data.TFRecordDataset(filenames)\n"
   ]
  },
  {
   "cell_type": "code",
   "execution_count": 3,
   "metadata": {},
   "outputs": [
    {
     "data": {
      "text/plain": [
       "<MapDataset shapes: (<unknown>, ()), types: (tf.uint8, tf.int32)>"
      ]
     },
     "execution_count": 3,
     "metadata": {},
     "output_type": "execute_result"
    }
   ],
   "source": [
    "def parse_tf_records(stuff):\n",
    "    print(stuff)\n",
    "    return stuff\n",
    "    \n",
    "\n",
    "\n",
    "def decode(serialized_example):\n",
    "    feature = {'image/encoded': tf.FixedLenFeature(\n",
    "          (), tf.string, default_value=''),\n",
    "                'image/class/label':tf.FixedLenFeature(\n",
    "          [], dtype=tf.int64, default_value=-1)}\n",
    "    example = tf.parse_single_example(serialized_example, feature)\n",
    "    image = tf.image.decode_image(example['image/encoded'], 3)\n",
    "    label = tf.cast(example['image/class/label'], dtype=tf.int32)\n",
    "    return image ,label\n",
    "\n",
    "tfrecord_dataset = dataset.map(decode)\n",
    "tfrecord_dataset"
   ]
  },
  {
   "cell_type": "code",
   "execution_count": 5,
   "metadata": {},
   "outputs": [
    {
     "ename": "TypeError",
     "evalue": "'TakeDataset' object does not support indexing",
     "output_type": "error",
     "traceback": [
      "\u001b[0;31m---------------------------------------------------------------------------\u001b[0m",
      "\u001b[0;31mTypeError\u001b[0m                                 Traceback (most recent call last)",
      "\u001b[0;32m<ipython-input-5-2ac002ddabaf>\u001b[0m in \u001b[0;36m<module>\u001b[0;34m\u001b[0m\n\u001b[1;32m      1\u001b[0m \u001b[0minput_example\u001b[0m \u001b[0;34m=\u001b[0m \u001b[0mtfrecord_dataset\u001b[0m\u001b[0;34m.\u001b[0m\u001b[0mtake\u001b[0m\u001b[0;34m(\u001b[0m\u001b[0;36m1\u001b[0m\u001b[0;34m)\u001b[0m\u001b[0;34m\u001b[0m\u001b[0m\n\u001b[1;32m      2\u001b[0m \u001b[0;34m\u001b[0m\u001b[0m\n\u001b[0;32m----> 3\u001b[0;31m \u001b[0minput_example\u001b[0m\u001b[0;34m[\u001b[0m\u001b[0;36m0\u001b[0m\u001b[0;34m]\u001b[0m\u001b[0;34m\u001b[0m\u001b[0m\n\u001b[0m",
      "\u001b[0;31mTypeError\u001b[0m: 'TakeDataset' object does not support indexing"
     ]
    }
   ],
   "source": [
    "input_example = tfrecord_dataset.take(1)\n",
    "\n",
    "input_example[0]"
   ]
  },
  {
   "cell_type": "code",
   "execution_count": null,
   "metadata": {},
   "outputs": [],
   "source": []
  }
 ],
 "metadata": {
  "kernelspec": {
   "display_name": "Python 3",
   "language": "python",
   "name": "python3"
  },
  "language_info": {
   "codemirror_mode": {
    "name": "ipython",
    "version": 3
   },
   "file_extension": ".py",
   "mimetype": "text/x-python",
   "name": "python",
   "nbconvert_exporter": "python",
   "pygments_lexer": "ipython3",
   "version": "3.6.3"
  }
 },
 "nbformat": 4,
 "nbformat_minor": 2
}
